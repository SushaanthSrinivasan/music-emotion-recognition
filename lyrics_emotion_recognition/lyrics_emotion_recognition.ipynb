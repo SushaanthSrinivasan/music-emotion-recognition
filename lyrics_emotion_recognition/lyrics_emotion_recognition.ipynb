{
 "cells": [
  {
   "cell_type": "code",
   "execution_count": 1,
   "metadata": {},
   "outputs": [],
   "source": [
    "import pandas as pd\n",
    "import numpy as np"
   ]
  },
  {
   "cell_type": "code",
   "execution_count": 2,
   "metadata": {},
   "outputs": [],
   "source": [
    "from nltk.corpus import stopwords\n"
   ]
  },
  {
   "cell_type": "code",
   "execution_count": 3,
   "metadata": {},
   "outputs": [],
   "source": [
    "df_train = pd.read_csv(\"df_test_new.csv\")\n",
    "df_test = pd.read_csv(\"df_train_new.csv\")"
   ]
  },
  {
   "cell_type": "code",
   "execution_count": 4,
   "metadata": {},
   "outputs": [
    {
     "data": {
      "text/html": [
       "<div>\n",
       "<style scoped>\n",
       "    .dataframe tbody tr th:only-of-type {\n",
       "        vertical-align: middle;\n",
       "    }\n",
       "\n",
       "    .dataframe tbody tr th {\n",
       "        vertical-align: top;\n",
       "    }\n",
       "\n",
       "    .dataframe thead th {\n",
       "        text-align: right;\n",
       "    }\n",
       "</style>\n",
       "<table border=\"1\" class=\"dataframe\">\n",
       "  <thead>\n",
       "    <tr style=\"text-align: right;\">\n",
       "      <th></th>\n",
       "      <th>Unnamed: 0.1</th>\n",
       "      <th>Unnamed: 0</th>\n",
       "      <th>Artist</th>\n",
       "      <th>Title</th>\n",
       "      <th>Mood</th>\n",
       "      <th>spotify</th>\n",
       "      <th>spotify_id</th>\n",
       "      <th>Lyrics</th>\n",
       "      <th>lang</th>\n",
       "      <th>Mood Label</th>\n",
       "    </tr>\n",
       "  </thead>\n",
       "  <tbody>\n",
       "    <tr>\n",
       "      <th>0</th>\n",
       "      <td>0</td>\n",
       "      <td>338</td>\n",
       "      <td>Murder By Death</td>\n",
       "      <td>Comin' Home</td>\n",
       "      <td>happy</td>\n",
       "      <td>https://open.spotify.com/track/0aK0NO0XEApqsss...</td>\n",
       "      <td>0aK0NO0XEApqsssSfmV88H</td>\n",
       "      <td>he light of the moon im comin home howlin all ...</td>\n",
       "      <td>en</td>\n",
       "      <td>1</td>\n",
       "    </tr>\n",
       "    <tr>\n",
       "      <th>1</th>\n",
       "      <td>1</td>\n",
       "      <td>248</td>\n",
       "      <td>Jah Cure</td>\n",
       "      <td>Love Is</td>\n",
       "      <td>happy</td>\n",
       "      <td>https://open.spotify.com/track/19KH5q4fqmgMW27...</td>\n",
       "      <td>19KH5q4fqmgMW27SXFLe2C</td>\n",
       "      <td>an</td>\n",
       "      <td>en</td>\n",
       "      <td>1</td>\n",
       "    </tr>\n",
       "    <tr>\n",
       "      <th>2</th>\n",
       "      <td>2</td>\n",
       "      <td>416</td>\n",
       "      <td>The Temptations</td>\n",
       "      <td>You're My Everything</td>\n",
       "      <td>happy</td>\n",
       "      <td>https://open.spotify.com/track/2imeCEVWpza2Ohe...</td>\n",
       "      <td>2imeCEVWpza2OheK2KoANa</td>\n",
       "      <td>an</td>\n",
       "      <td>en</td>\n",
       "      <td>1</td>\n",
       "    </tr>\n",
       "    <tr>\n",
       "      <th>3</th>\n",
       "      <td>3</td>\n",
       "      <td>251</td>\n",
       "      <td>Ann Hampton Callaway</td>\n",
       "      <td>What Is This Thing Called Love?</td>\n",
       "      <td>happy</td>\n",
       "      <td>https://open.spotify.com/track/1JMGva69r7ZTN5l...</td>\n",
       "      <td>1JMGva69r7ZTN5l4NYXVgu</td>\n",
       "      <td>an</td>\n",
       "      <td>en</td>\n",
       "      <td>1</td>\n",
       "    </tr>\n",
       "    <tr>\n",
       "      <th>4</th>\n",
       "      <td>4</td>\n",
       "      <td>234</td>\n",
       "      <td>Dolly Parton</td>\n",
       "      <td>I Will Always Love You</td>\n",
       "      <td>happy</td>\n",
       "      <td>https://open.spotify.com/track/6nRvgo4ySezQKD1...</td>\n",
       "      <td>6nRvgo4ySezQKD1D7NIqAu</td>\n",
       "      <td>an</td>\n",
       "      <td>en</td>\n",
       "      <td>1</td>\n",
       "    </tr>\n",
       "    <tr>\n",
       "      <th>...</th>\n",
       "      <td>...</td>\n",
       "      <td>...</td>\n",
       "      <td>...</td>\n",
       "      <td>...</td>\n",
       "      <td>...</td>\n",
       "      <td>...</td>\n",
       "      <td>...</td>\n",
       "      <td>...</td>\n",
       "      <td>...</td>\n",
       "      <td>...</td>\n",
       "    </tr>\n",
       "    <tr>\n",
       "      <th>475</th>\n",
       "      <td>475</td>\n",
       "      <td>232</td>\n",
       "      <td>Michael Franti &amp; Spearhead</td>\n",
       "      <td>All I Want Is You</td>\n",
       "      <td>happy</td>\n",
       "      <td>https://open.spotify.com/track/4DdhRPkFtkKhBdU...</td>\n",
       "      <td>4DdhRPkFtkKhBdUS2xCZl1</td>\n",
       "      <td>all i want be you all i want be you all i want...</td>\n",
       "      <td>en</td>\n",
       "      <td>1</td>\n",
       "    </tr>\n",
       "    <tr>\n",
       "      <th>476</th>\n",
       "      <td>476</td>\n",
       "      <td>343</td>\n",
       "      <td>Johnny Preston</td>\n",
       "      <td>Running Bear</td>\n",
       "      <td>happy</td>\n",
       "      <td>https://open.spotify.com/track/1mE8QtaSFxEQnr3...</td>\n",
       "      <td>1mE8QtaSFxEQnr3SgxmIRf</td>\n",
       "      <td>an</td>\n",
       "      <td>en</td>\n",
       "      <td>1</td>\n",
       "    </tr>\n",
       "    <tr>\n",
       "      <th>477</th>\n",
       "      <td>477</td>\n",
       "      <td>552</td>\n",
       "      <td>Metallica</td>\n",
       "      <td>Holier Than Thou</td>\n",
       "      <td>sad</td>\n",
       "      <td>https://open.spotify.com/track/5VJ05rDJ2O4cECG...</td>\n",
       "      <td>5VJ05rDJ2O4cECGNbWPi64</td>\n",
       "      <td>more the crap roll out your mouth again havent...</td>\n",
       "      <td>en</td>\n",
       "      <td>2</td>\n",
       "    </tr>\n",
       "    <tr>\n",
       "      <th>478</th>\n",
       "      <td>478</td>\n",
       "      <td>423</td>\n",
       "      <td>Gerald Levert</td>\n",
       "      <td>Baby Hold On To Me</td>\n",
       "      <td>happy</td>\n",
       "      <td>https://open.spotify.com/track/38V9quY32pQ1DPK...</td>\n",
       "      <td>38V9quY32pQ1DPK5JRTs94</td>\n",
       "      <td>all your friend be tellin you you should have ...</td>\n",
       "      <td>en</td>\n",
       "      <td>1</td>\n",
       "    </tr>\n",
       "    <tr>\n",
       "      <th>479</th>\n",
       "      <td>479</td>\n",
       "      <td>507</td>\n",
       "      <td>Steel Panther</td>\n",
       "      <td>Death To All But Metal</td>\n",
       "      <td>sad</td>\n",
       "      <td>https://open.spotify.com/track/280Y9MmTJacpEVj...</td>\n",
       "      <td>280Y9MmTJacpEVjCeqdyxz</td>\n",
       "      <td>all right yeah cccome on fuck the goo goo doll...</td>\n",
       "      <td>en</td>\n",
       "      <td>2</td>\n",
       "    </tr>\n",
       "  </tbody>\n",
       "</table>\n",
       "<p>480 rows × 10 columns</p>\n",
       "</div>"
      ],
      "text/plain": [
       "     Unnamed: 0.1  Unnamed: 0                      Artist  \\\n",
       "0               0         338             Murder By Death   \n",
       "1               1         248                    Jah Cure   \n",
       "2               2         416             The Temptations   \n",
       "3               3         251        Ann Hampton Callaway   \n",
       "4               4         234                Dolly Parton   \n",
       "..            ...         ...                         ...   \n",
       "475           475         232  Michael Franti & Spearhead   \n",
       "476           476         343              Johnny Preston   \n",
       "477           477         552                   Metallica   \n",
       "478           478         423               Gerald Levert   \n",
       "479           479         507               Steel Panther   \n",
       "\n",
       "                               Title   Mood  \\\n",
       "0                        Comin' Home  happy   \n",
       "1                            Love Is  happy   \n",
       "2               You're My Everything  happy   \n",
       "3    What Is This Thing Called Love?  happy   \n",
       "4             I Will Always Love You  happy   \n",
       "..                               ...    ...   \n",
       "475                All I Want Is You  happy   \n",
       "476                     Running Bear  happy   \n",
       "477                 Holier Than Thou    sad   \n",
       "478               Baby Hold On To Me  happy   \n",
       "479           Death To All But Metal    sad   \n",
       "\n",
       "                                               spotify  \\\n",
       "0    https://open.spotify.com/track/0aK0NO0XEApqsss...   \n",
       "1    https://open.spotify.com/track/19KH5q4fqmgMW27...   \n",
       "2    https://open.spotify.com/track/2imeCEVWpza2Ohe...   \n",
       "3    https://open.spotify.com/track/1JMGva69r7ZTN5l...   \n",
       "4    https://open.spotify.com/track/6nRvgo4ySezQKD1...   \n",
       "..                                                 ...   \n",
       "475  https://open.spotify.com/track/4DdhRPkFtkKhBdU...   \n",
       "476  https://open.spotify.com/track/1mE8QtaSFxEQnr3...   \n",
       "477  https://open.spotify.com/track/5VJ05rDJ2O4cECG...   \n",
       "478  https://open.spotify.com/track/38V9quY32pQ1DPK...   \n",
       "479  https://open.spotify.com/track/280Y9MmTJacpEVj...   \n",
       "\n",
       "                 spotify_id  \\\n",
       "0    0aK0NO0XEApqsssSfmV88H   \n",
       "1    19KH5q4fqmgMW27SXFLe2C   \n",
       "2    2imeCEVWpza2OheK2KoANa   \n",
       "3    1JMGva69r7ZTN5l4NYXVgu   \n",
       "4    6nRvgo4ySezQKD1D7NIqAu   \n",
       "..                      ...   \n",
       "475  4DdhRPkFtkKhBdUS2xCZl1   \n",
       "476  1mE8QtaSFxEQnr3SgxmIRf   \n",
       "477  5VJ05rDJ2O4cECGNbWPi64   \n",
       "478  38V9quY32pQ1DPK5JRTs94   \n",
       "479  280Y9MmTJacpEVjCeqdyxz   \n",
       "\n",
       "                                                Lyrics lang  Mood Label  \n",
       "0    he light of the moon im comin home howlin all ...   en           1  \n",
       "1                                                   an   en           1  \n",
       "2                                                   an   en           1  \n",
       "3                                                   an   en           1  \n",
       "4                                                   an   en           1  \n",
       "..                                                 ...  ...         ...  \n",
       "475  all i want be you all i want be you all i want...   en           1  \n",
       "476                                                 an   en           1  \n",
       "477  more the crap roll out your mouth again havent...   en           2  \n",
       "478  all your friend be tellin you you should have ...   en           1  \n",
       "479  all right yeah cccome on fuck the goo goo doll...   en           2  \n",
       "\n",
       "[480 rows x 10 columns]"
      ]
     },
     "execution_count": 4,
     "metadata": {},
     "output_type": "execute_result"
    }
   ],
   "source": [
    "df_train"
   ]
  },
  {
   "cell_type": "code",
   "execution_count": 5,
   "metadata": {},
   "outputs": [
    {
     "data": {
      "text/html": [
       "<div>\n",
       "<style scoped>\n",
       "    .dataframe tbody tr th:only-of-type {\n",
       "        vertical-align: middle;\n",
       "    }\n",
       "\n",
       "    .dataframe tbody tr th {\n",
       "        vertical-align: top;\n",
       "    }\n",
       "\n",
       "    .dataframe thead th {\n",
       "        text-align: right;\n",
       "    }\n",
       "</style>\n",
       "<table border=\"1\" class=\"dataframe\">\n",
       "  <thead>\n",
       "    <tr style=\"text-align: right;\">\n",
       "      <th></th>\n",
       "      <th>Unnamed: 0.1</th>\n",
       "      <th>Unnamed: 0</th>\n",
       "      <th>Artist</th>\n",
       "      <th>Title</th>\n",
       "      <th>Mood</th>\n",
       "      <th>spotify</th>\n",
       "      <th>spotify_id</th>\n",
       "      <th>Lyrics</th>\n",
       "      <th>lang</th>\n",
       "      <th>Mood Label</th>\n",
       "    </tr>\n",
       "  </thead>\n",
       "  <tbody>\n",
       "    <tr>\n",
       "      <th>0</th>\n",
       "      <td>0</td>\n",
       "      <td>549</td>\n",
       "      <td>Blink-182</td>\n",
       "      <td>I Miss You</td>\n",
       "      <td>sad</td>\n",
       "      <td>https://open.spotify.com/track/1oTo3ijRbaDAtrj...</td>\n",
       "      <td>1oTo3ijRbaDAtrjJrGAPSw</td>\n",
       "      <td>an</td>\n",
       "      <td>en</td>\n",
       "      <td>2</td>\n",
       "    </tr>\n",
       "    <tr>\n",
       "      <th>1</th>\n",
       "      <td>1</td>\n",
       "      <td>446</td>\n",
       "      <td>Ledisi</td>\n",
       "      <td>What A Wonderful World</td>\n",
       "      <td>happy</td>\n",
       "      <td>https://open.spotify.com/track/1LGFf2fyi77UVr5...</td>\n",
       "      <td>1LGFf2fyi77UVr5Q9urhhs</td>\n",
       "      <td>ee tree of green red rose too i see them bloom...</td>\n",
       "      <td>en</td>\n",
       "      <td>1</td>\n",
       "    </tr>\n",
       "    <tr>\n",
       "      <th>2</th>\n",
       "      <td>2</td>\n",
       "      <td>249</td>\n",
       "      <td>Eric Church</td>\n",
       "      <td>Love Your Love The Most</td>\n",
       "      <td>happy</td>\n",
       "      <td>https://open.spotify.com/track/1ejsHmXBdf1RMLA...</td>\n",
       "      <td>1ejsHmXBdf1RMLAmDQdFdh</td>\n",
       "      <td>an</td>\n",
       "      <td>en</td>\n",
       "      <td>1</td>\n",
       "    </tr>\n",
       "    <tr>\n",
       "      <th>3</th>\n",
       "      <td>3</td>\n",
       "      <td>130</td>\n",
       "      <td>James Hunter</td>\n",
       "      <td>No Smoke Without Fire</td>\n",
       "      <td>angry</td>\n",
       "      <td>https://open.spotify.com/track/0YfMlnlzigM429Z...</td>\n",
       "      <td>0YfMlnlzigM429ZFXGTE8n</td>\n",
       "      <td>ell me just what happen let me get this down b...</td>\n",
       "      <td>en</td>\n",
       "      <td>0</td>\n",
       "    </tr>\n",
       "    <tr>\n",
       "      <th>4</th>\n",
       "      <td>4</td>\n",
       "      <td>414</td>\n",
       "      <td>Morphine</td>\n",
       "      <td>Honey White</td>\n",
       "      <td>happy</td>\n",
       "      <td>https://open.spotify.com/track/6duiokdiw9dEJe7...</td>\n",
       "      <td>6duiokdiw9dEJe7PEgK30h</td>\n",
       "      <td>honey white honey white honey white make a dea...</td>\n",
       "      <td>en</td>\n",
       "      <td>1</td>\n",
       "    </tr>\n",
       "    <tr>\n",
       "      <th>...</th>\n",
       "      <td>...</td>\n",
       "      <td>...</td>\n",
       "      <td>...</td>\n",
       "      <td>...</td>\n",
       "      <td>...</td>\n",
       "      <td>...</td>\n",
       "      <td>...</td>\n",
       "      <td>...</td>\n",
       "      <td>...</td>\n",
       "      <td>...</td>\n",
       "    </tr>\n",
       "    <tr>\n",
       "      <th>115</th>\n",
       "      <td>115</td>\n",
       "      <td>363</td>\n",
       "      <td>Aaron Shust</td>\n",
       "      <td>Give Me Words To Speak</td>\n",
       "      <td>happy</td>\n",
       "      <td>https://open.spotify.com/track/5PNFjiwoM2eDpe7...</td>\n",
       "      <td>5PNFjiwoM2eDpe7Wq88Dnh</td>\n",
       "      <td>alloused and bruise daze and confuse my spirit...</td>\n",
       "      <td>en</td>\n",
       "      <td>1</td>\n",
       "    </tr>\n",
       "    <tr>\n",
       "      <th>116</th>\n",
       "      <td>116</td>\n",
       "      <td>140</td>\n",
       "      <td>The Decemberists</td>\n",
       "      <td>This Is Why We Fight</td>\n",
       "      <td>angry</td>\n",
       "      <td>https://open.spotify.com/track/6t3x9CzCRsnIZVC...</td>\n",
       "      <td>6t3x9CzCRsnIZVCspFIExs</td>\n",
       "      <td>me the war come the avarice come the war come ...</td>\n",
       "      <td>en</td>\n",
       "      <td>0</td>\n",
       "    </tr>\n",
       "    <tr>\n",
       "      <th>117</th>\n",
       "      <td>117</td>\n",
       "      <td>215</td>\n",
       "      <td>Mary Mary</td>\n",
       "      <td>Ordinary People</td>\n",
       "      <td>happy</td>\n",
       "      <td>https://open.spotify.com/track/38eXyD9HZ1izb6d...</td>\n",
       "      <td>38eXyD9HZ1izb6dmfNXlUG</td>\n",
       "      <td>an</td>\n",
       "      <td>en</td>\n",
       "      <td>1</td>\n",
       "    </tr>\n",
       "    <tr>\n",
       "      <th>118</th>\n",
       "      <td>118</td>\n",
       "      <td>58</td>\n",
       "      <td>Decyfer Down</td>\n",
       "      <td>Crash</td>\n",
       "      <td>angry</td>\n",
       "      <td>https://open.spotify.com/track/2PQ5qbGvqqaNryS...</td>\n",
       "      <td>2PQ5qbGvqqaNryS14cSNC9</td>\n",
       "      <td>feel the pressure let it go feel the pressure ...</td>\n",
       "      <td>en</td>\n",
       "      <td>0</td>\n",
       "    </tr>\n",
       "    <tr>\n",
       "      <th>119</th>\n",
       "      <td>119</td>\n",
       "      <td>350</td>\n",
       "      <td>Juice Newton</td>\n",
       "      <td>Angel Of The Morning</td>\n",
       "      <td>happy</td>\n",
       "      <td>https://open.spotify.com/track/11y8GSP2ASv8S9n...</td>\n",
       "      <td>11y8GSP2ASv8S9n0FiiDva</td>\n",
       "      <td>an</td>\n",
       "      <td>en</td>\n",
       "      <td>1</td>\n",
       "    </tr>\n",
       "  </tbody>\n",
       "</table>\n",
       "<p>120 rows × 10 columns</p>\n",
       "</div>"
      ],
      "text/plain": [
       "     Unnamed: 0.1  Unnamed: 0            Artist                    Title  \\\n",
       "0               0         549         Blink-182               I Miss You   \n",
       "1               1         446            Ledisi   What A Wonderful World   \n",
       "2               2         249       Eric Church  Love Your Love The Most   \n",
       "3               3         130      James Hunter    No Smoke Without Fire   \n",
       "4               4         414          Morphine              Honey White   \n",
       "..            ...         ...               ...                      ...   \n",
       "115           115         363       Aaron Shust   Give Me Words To Speak   \n",
       "116           116         140  The Decemberists     This Is Why We Fight   \n",
       "117           117         215         Mary Mary          Ordinary People   \n",
       "118           118          58      Decyfer Down                    Crash   \n",
       "119           119         350      Juice Newton     Angel Of The Morning   \n",
       "\n",
       "      Mood                                            spotify  \\\n",
       "0      sad  https://open.spotify.com/track/1oTo3ijRbaDAtrj...   \n",
       "1    happy  https://open.spotify.com/track/1LGFf2fyi77UVr5...   \n",
       "2    happy  https://open.spotify.com/track/1ejsHmXBdf1RMLA...   \n",
       "3    angry  https://open.spotify.com/track/0YfMlnlzigM429Z...   \n",
       "4    happy  https://open.spotify.com/track/6duiokdiw9dEJe7...   \n",
       "..     ...                                                ...   \n",
       "115  happy  https://open.spotify.com/track/5PNFjiwoM2eDpe7...   \n",
       "116  angry  https://open.spotify.com/track/6t3x9CzCRsnIZVC...   \n",
       "117  happy  https://open.spotify.com/track/38eXyD9HZ1izb6d...   \n",
       "118  angry  https://open.spotify.com/track/2PQ5qbGvqqaNryS...   \n",
       "119  happy  https://open.spotify.com/track/11y8GSP2ASv8S9n...   \n",
       "\n",
       "                 spotify_id  \\\n",
       "0    1oTo3ijRbaDAtrjJrGAPSw   \n",
       "1    1LGFf2fyi77UVr5Q9urhhs   \n",
       "2    1ejsHmXBdf1RMLAmDQdFdh   \n",
       "3    0YfMlnlzigM429ZFXGTE8n   \n",
       "4    6duiokdiw9dEJe7PEgK30h   \n",
       "..                      ...   \n",
       "115  5PNFjiwoM2eDpe7Wq88Dnh   \n",
       "116  6t3x9CzCRsnIZVCspFIExs   \n",
       "117  38eXyD9HZ1izb6dmfNXlUG   \n",
       "118  2PQ5qbGvqqaNryS14cSNC9   \n",
       "119  11y8GSP2ASv8S9n0FiiDva   \n",
       "\n",
       "                                                Lyrics lang  Mood Label  \n",
       "0                                                   an   en           2  \n",
       "1    ee tree of green red rose too i see them bloom...   en           1  \n",
       "2                                                   an   en           1  \n",
       "3    ell me just what happen let me get this down b...   en           0  \n",
       "4    honey white honey white honey white make a dea...   en           1  \n",
       "..                                                 ...  ...         ...  \n",
       "115  alloused and bruise daze and confuse my spirit...   en           1  \n",
       "116  me the war come the avarice come the war come ...   en           0  \n",
       "117                                                 an   en           1  \n",
       "118  feel the pressure let it go feel the pressure ...   en           0  \n",
       "119                                                 an   en           1  \n",
       "\n",
       "[120 rows x 10 columns]"
      ]
     },
     "execution_count": 5,
     "metadata": {},
     "output_type": "execute_result"
    }
   ],
   "source": [
    "df_test"
   ]
  },
  {
   "cell_type": "code",
   "execution_count": 6,
   "metadata": {},
   "outputs": [
    {
     "name": "stdout",
     "output_type": "stream",
     "text": [
      "600 600\n"
     ]
    },
    {
     "data": {
      "text/plain": [
       "0      he light of the moon im comin home howlin all ...\n",
       "1                                                     an\n",
       "2                                                     an\n",
       "3                                                     an\n",
       "4                                                     an\n",
       "                             ...                        \n",
       "115    alloused and bruise daze and confuse my spirit...\n",
       "116    me the war come the avarice come the war come ...\n",
       "117                                                   an\n",
       "118    feel the pressure let it go feel the pressure ...\n",
       "119                                                   an\n",
       "Name: Lyrics, Length: 600, dtype: object"
      ]
     },
     "execution_count": 6,
     "metadata": {},
     "output_type": "execute_result"
    }
   ],
   "source": [
    "X = pd.concat([df_train[\"Lyrics\"], df_test[\"Lyrics\"]])\n",
    "print(len(X), 480+120)\n",
    "X"
   ]
  },
  {
   "cell_type": "code",
   "execution_count": 7,
   "metadata": {},
   "outputs": [],
   "source": [
    "from sklearn.feature_extraction.text import CountVectorizer\n",
    "vectorizer = CountVectorizer(max_features=1500, min_df=5, max_df=0.7, stop_words=stopwords.words('english'))\n",
    "X = vectorizer.fit_transform(X).toarray()\n",
    "# y_train = vectorizer.fit_transform(df_train[\"Mood Label\"]).toarray()\n",
    "# y_test = vectorizer.fit_transform(df_test[\"Mood Label\"]).toarray()"
   ]
  },
  {
   "cell_type": "code",
   "execution_count": 8,
   "metadata": {},
   "outputs": [],
   "source": [
    "from sklearn.feature_extraction.text import TfidfTransformer\n",
    "tfidfconverter = TfidfTransformer()\n",
    "X = tfidfconverter.fit_transform(X).toarray()\n",
    "# X_test = tfidfconverter.fit_transform(X_test).toarray()\n",
    "# y_train = tfidfconverter.fit_transform(y_train).toarray()\n",
    "# y_test = tfidfconverter.fit_transform(y_test).toarray()"
   ]
  },
  {
   "cell_type": "code",
   "execution_count": 9,
   "metadata": {},
   "outputs": [],
   "source": [
    "X_train = X[0:480]\n",
    "X_test = X[480:]\n",
    "y_train = df_train[\"Mood Label\"]\n",
    "y_test = df_test[\"Mood Label\"]"
   ]
  },
  {
   "cell_type": "code",
   "execution_count": 10,
   "metadata": {},
   "outputs": [
    {
     "name": "stdout",
     "output_type": "stream",
     "text": [
      "(480, 754) (120, 754) (480,) (120,)\n"
     ]
    }
   ],
   "source": [
    "print(X_train.shape, X_test.shape, y_train.shape, y_test.shape) "
   ]
  },
  {
   "cell_type": "code",
   "execution_count": 11,
   "metadata": {},
   "outputs": [
    {
     "data": {
      "text/plain": [
       "RandomForestClassifier(random_state=0)"
      ]
     },
     "execution_count": 11,
     "metadata": {},
     "output_type": "execute_result"
    }
   ],
   "source": [
    "from sklearn.ensemble import RandomForestClassifier\n",
    "classifier = RandomForestClassifier(n_estimators=100, random_state=0)\n",
    "classifier.fit(X_train, y_train)"
   ]
  },
  {
   "cell_type": "code",
   "execution_count": 12,
   "metadata": {},
   "outputs": [],
   "source": [
    "y_pred = classifier.predict(X_test)\n",
    "y_pred_train = classifier.predict(X_train)"
   ]
  },
  {
   "cell_type": "code",
   "execution_count": 13,
   "metadata": {},
   "outputs": [
    {
     "name": "stdout",
     "output_type": "stream",
     "text": [
      "              precision    recall  f1-score   support\n",
      "\n",
      "           0       0.87      0.43      0.58        30\n",
      "           1       0.67      0.95      0.79        60\n",
      "           2       0.75      0.50      0.60        30\n",
      "\n",
      "    accuracy                           0.71       120\n",
      "   macro avg       0.76      0.63      0.65       120\n",
      "weighted avg       0.74      0.71      0.69       120\n",
      "\n",
      "0.7083333333333334\n",
      "0.86875\n"
     ]
    }
   ],
   "source": [
    "from sklearn.metrics import classification_report, confusion_matrix, accuracy_score\n",
    "from sklearn.metrics import ConfusionMatrixDisplay\n",
    "disp = ConfusionMatrixDisplay(confusion_matrix(y_test,y_pred))\n",
    "print(classification_report(y_test,y_pred))\n",
    "print(accuracy_score(y_test, y_pred))\n",
    "print(accuracy_score(y_train, y_pred_train))"
   ]
  },
  {
   "cell_type": "code",
   "execution_count": 14,
   "metadata": {},
   "outputs": [
    {
     "data": {
      "text/plain": [
       "<sklearn.metrics._plot.confusion_matrix.ConfusionMatrixDisplay at 0x7fea6ab667f0>"
      ]
     },
     "execution_count": 14,
     "metadata": {},
     "output_type": "execute_result"
    },
    {
     "data": {
      "image/png": "[encoded data removed]",
      "text/plain": [
       "<Figure size 432x288 with 2 Axes>"
      ]
     },
     "metadata": {
      "needs_background": "light"
     },
     "output_type": "display_data"
    }
   ],
   "source": [
    "disp.plot()"
   ]
  },
  {
   "cell_type": "code",
   "execution_count": 15,
   "metadata": {},
   "outputs": [
    {
     "name": "stdout",
     "output_type": "stream",
     "text": [
      "0.85\n",
      "0.7666666666666667\n"
     ]
    }
   ],
   "source": [
    "from sklearn.linear_model import LogisticRegression\n",
    "LR = LogisticRegression()\n",
    "LR.fit(X_train, y_train)\n",
    "LR_train_pred = LR.predict(X_train)\n",
    "LR_test_pred = LR.predict(X_test)\n",
    "print(accuracy_score(y_train, LR_train_pred))\n",
    "print(accuracy_score(y_test, LR_test_pred))"
   ]
  },
  {
   "cell_type": "code",
   "execution_count": 16,
   "metadata": {},
   "outputs": [
    {
     "name": "stdout",
     "output_type": "stream",
     "text": [
      "0.7479166666666667\n",
      "0.4083333333333333\n"
     ]
    }
   ],
   "source": [
    "from sklearn.naive_bayes import GaussianNB\n",
    "GNB = GaussianNB()\n",
    "GNB.fit(X_train, y_train)\n",
    "GNB_train_pred = GNB.predict(X_train)\n",
    "GNB_test_pred = GNB.predict(X_test)\n",
    "print(accuracy_score(y_train, GNB_train_pred))\n",
    "print(accuracy_score(y_test, GNB_test_pred))\n"
   ]
  },
  {
   "cell_type": "code",
   "execution_count": 17,
   "metadata": {},
   "outputs": [
    {
     "name": "stdout",
     "output_type": "stream",
     "text": [
      "0.75625\n",
      "0.6166666666666667\n"
     ]
    }
   ],
   "source": [
    "from sklearn.naive_bayes import MultinomialNB\n",
    "MNB = MultinomialNB()\n",
    "MNB.fit(X_train, y_train)\n",
    "MNB_train_pred = MNB.predict(X_train)\n",
    "MNB_test_pred = MNB.predict(X_test)\n",
    "print(accuracy_score(y_train, MNB_train_pred))\n",
    "print(accuracy_score(y_test, MNB_test_pred))"
   ]
  },
  {
   "cell_type": "code",
   "execution_count": 18,
   "metadata": {},
   "outputs": [
    {
     "name": "stdout",
     "output_type": "stream",
     "text": [
      "0.5020833333333333\n",
      "0.5\n"
     ]
    }
   ],
   "source": [
    "from sklearn.naive_bayes import CategoricalNB\n",
    "CNB = CategoricalNB()\n",
    "CNB.fit(X_train, y_train)\n",
    "CNB_train_pred = CNB.predict(X_train)\n",
    "CNB_test_pred = CNB.predict(X_test)\n",
    "print(accuracy_score(y_train, CNB_train_pred))\n",
    "print(accuracy_score(y_test, CNB_test_pred))"
   ]
  },
  {
   "cell_type": "code",
   "execution_count": 19,
   "metadata": {},
   "outputs": [
    {
     "name": "stdout",
     "output_type": "stream",
     "text": [
      "0.86875\n",
      "0.625\n"
     ]
    }
   ],
   "source": [
    "from sklearn.tree import DecisionTreeClassifier\n",
    "DTC = DecisionTreeClassifier()\n",
    "DTC.fit(X_train, y_train)\n",
    "DTC_train_pred = DTC.predict(X_train)\n",
    "DTC_test_pred = DTC.predict(X_test)\n",
    "print(accuracy_score(y_train, DTC_train_pred))\n",
    "print(accuracy_score(y_test, DTC_test_pred))"
   ]
  },
  {
   "cell_type": "code",
   "execution_count": 20,
   "metadata": {},
   "outputs": [
    {
     "name": "stdout",
     "output_type": "stream",
     "text": [
      "0.7958333333333333\n",
      "0.5916666666666667\n"
     ]
    }
   ],
   "source": [
    "from sklearn.ensemble import AdaBoostClassifier\n",
    "ABC = AdaBoostClassifier()\n",
    "ABC.fit(X_train, y_train)\n",
    "ABC_train_pred = ABC.predict(X_train)\n",
    "ABC_test_pred = ABC.predict(X_test)\n",
    "print(accuracy_score(y_train, ABC_train_pred))\n",
    "print(accuracy_score(y_test, ABC_test_pred))"
   ]
  },
  {
   "cell_type": "code",
   "execution_count": 21,
   "metadata": {},
   "outputs": [
    {
     "name": "stdout",
     "output_type": "stream",
     "text": [
      "0.86875\n",
      "0.6916666666666667\n"
     ]
    }
   ],
   "source": [
    "from sklearn.ensemble import RandomForestClassifier\n",
    "RFC = RandomForestClassifier()\n",
    "RFC.fit(X_train, y_train)\n",
    "RFC_train_pred = RFC.predict(X_train)\n",
    "RFC_test_pred = RFC.predict(X_test)\n",
    "print(accuracy_score(y_train, RFC_train_pred))\n",
    "print(accuracy_score(y_test, RFC_test_pred))"
   ]
  },
  {
   "cell_type": "code",
   "execution_count": 23,
   "metadata": {},
   "outputs": [
    {
     "name": "stdout",
     "output_type": "stream",
     "text": [
      "Defaulting to user installation because normal site-packages is not writeable\n",
      "Collecting xgboost\n",
      "  Downloading xgboost-2.0.3-py3-none-manylinux2014_x86_64.whl (297.1 MB)\n",
      "\u001b[K     |████████████████████████████████| 297.1 MB 13 kB/s /s eta 0:00:01                   | 13.9 MB 9.6 MB/s eta 0:00:30              | 17.4 MB 9.6 MB/s eta 0:00:30     |████▎                           | 39.3 MB 9.6 MB/s eta 0:00:27MB 101.7 MB/s eta 0:00:01\n",
      "\u001b[?25hRequirement already satisfied: scipy in /opt/conda/lib/python3.9/site-packages (from xgboost) (1.7.0)\n",
      "Requirement already satisfied: numpy in /opt/conda/lib/python3.9/site-packages (from xgboost) (1.22.4)\n",
      "Installing collected packages: xgboost\n",
      "Successfully installed xgboost-2.0.3\n",
      "Note: you may need to restart the kernel to use updated packages.\n"
     ]
    }
   ],
   "source": [
    "pip install xgboost"
   ]
  },
  {
   "cell_type": "code",
   "execution_count": 24,
   "metadata": {},
   "outputs": [
    {
     "name": "stdout",
     "output_type": "stream",
     "text": [
      "0.8666666666666667\n",
      "0.6583333333333333\n"
     ]
    }
   ],
   "source": [
    "from xgboost import XGBClassifier\n",
    "XGB = XGBClassifier()\n",
    "XGB.fit(X_train, y_train)\n",
    "XGB_train_pred = XGB.predict(X_train)\n",
    "XGB_test_pred = XGB.predict(X_test)\n",
    "print(accuracy_score(y_train, XGB_train_pred))\n",
    "print(accuracy_score(y_test, XGB_test_pred))"
   ]
  },
  {
   "cell_type": "code",
   "execution_count": 25,
   "metadata": {},
   "outputs": [
    {
     "name": "stdout",
     "output_type": "stream",
     "text": [
      "0.8666666666666667\n",
      "0.6666666666666666\n"
     ]
    }
   ],
   "source": [
    "from xgboost import XGBClassifier\n",
    "XGB1 = XGBClassifier(n_estimators=80, learning_rate=0.1, max_depth=8)\n",
    "XGB1.fit(X_train, y_train)\n",
    "XGB1_train_pred = XGB1.predict(X_train)\n",
    "XGB1_test_pred = XGB1.predict(X_test)\n",
    "print(accuracy_score(y_train, XGB1_train_pred))\n",
    "print(accuracy_score(y_test, XGB1_test_pred))"
   ]
  },
  {
   "cell_type": "code",
   "execution_count": null,
   "metadata": {},
   "outputs": [],
   "source": []
  }
 ],
 "metadata": {
  "kernelspec": {
   "display_name": "Python 3 (ipykernel)",
   "language": "python",
   "name": "python3"
  },
  "language_info": {
   "codemirror_mode": {
    "name": "ipython",
    "version": 3
   },
   "file_extension": ".py",
   "mimetype": "text/x-python",
   "name": "python",
   "nbconvert_exporter": "python",
   "pygments_lexer": "ipython3",
   "version": "3.9.5"
  }
 },
 "nbformat": 4,
 "nbformat_minor": 2
}
